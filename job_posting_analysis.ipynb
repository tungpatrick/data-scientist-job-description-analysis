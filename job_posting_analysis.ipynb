{
 "cells": [
  {
   "cell_type": "markdown",
   "metadata": {},
   "source": [
    "# Data Scientist Job Description Analysis"
   ]
  },
  {
   "cell_type": "code",
   "execution_count": 270,
   "metadata": {},
   "outputs": [],
   "source": [
    "# general\n",
    "import pandas as pd\n",
    "import numpy as np\n",
    "import time\n",
    "\n",
    "# web scrape\n",
    "from urllib.request import urlopen\n",
    "import requests\n",
    "from bs4 import BeautifulSoup\n",
    "\n",
    "# preprocess\n",
    "import re\n",
    "import nltk\n",
    "import spacy\n",
    "nlp = spacy.load(\"en\")\n",
    "import gensim\n",
    "from sklearn.feature_extraction.text import TfidfVectorizer\n",
    "\n",
    "# word embeddings\n",
    "from gensim.models import KeyedVectors, Word2Vec\n",
    "\n",
    "# clustering\n",
    "from sklearn.cluster import SpectralClustering\n",
    "\n",
    "# word cloud visualization\n",
    "from wordcloud import WordCloud\n",
    "import matplotlib.pyplot as plt\n",
    "%matplotlib inline"
   ]
  },
  {
   "cell_type": "markdown",
   "metadata": {},
   "source": [
    "# Collect Job Postings\n",
    "**for Data Scientists in Canada**"
   ]
  },
  {
   "cell_type": "code",
   "execution_count": 530,
   "metadata": {},
   "outputs": [],
   "source": [
    "# collect job descriptions\n",
    "jd_list = []\n",
    "companies = []\n",
    "search_position = \"data+scientist\"\n",
    "search_location = \"Canada\"\n",
    "min_posts = 50\n",
    "\n",
    "url = \"https://www.indeed.ca/\"\n",
    "\n",
    "while len(jd_list) < min_posts:\n",
    "    time.sleep(1)\n",
    "    ds_filter = \"jobs?q=\"+search_position+\"&l=\"+search_location+\"&limit=50\"\n",
    "    req = requests.get(url+ds_filter)\n",
    "    main_soup = BeautifulSoup(req.text, \"lxml\")\n",
    "    # get links\n",
    "    main_page = main_soup.findAll(\"div\", attrs={\"class\": \"jobsearch-SerpJobCard\"})\n",
    "    for i in main_page:\n",
    "        company = i.find(\"span\", attrs={\"class\": \"company\"}).text.strip().lower()\n",
    "        position = i.find(\"div\", attrs={\"class\":\"title\"}).find(\"a\")[\"title\"].lower()\n",
    "        \n",
    "        if (\"data scientist\" in position) and (company not in companies):\n",
    "            link_filter = \"viewjob?jk=\"+i[\"data-jk\"]\n",
    "            page_req = requests.get(url+link_filter)\n",
    "            page_soup = BeautifulSoup(page_req.text, \"lxml\")\n",
    "            job_details = page_soup.find(\"div\", attrs={\"id\":\"jobDescriptionText\"})\n",
    "            \n",
    "            # keep track of titles to reduce duplicates\n",
    "            companies.append(company)\n",
    "            # append job description\n",
    "            jd_list.append(str(job_details))\n",
    "        else:\n",
    "            continue"
   ]
  },
  {
   "cell_type": "markdown",
   "metadata": {},
   "source": [
    "# Preprocess Job Postings\n"
   ]
  },
  {
   "cell_type": "code",
   "execution_count": 399,
   "metadata": {},
   "outputs": [],
   "source": [
    "def preprocess(text, min_token_len = 2):\n",
    "    \"\"\"\n",
    "    Simple preprocessor that removes html tags and tokenizes text.\n",
    "    \n",
    "    Return: string\n",
    "    \"\"\"\n",
    "    text = re.compile(r'<.*?>').sub(\"\", text)\n",
    "    \n",
    "     # Create doc\n",
    "    doc = nlp(text)\n",
    "    \n",
    "    # Remove everything in step 3\n",
    "    tokens = [str(token).lower() for token in doc if not token.is_stop and len(token) >= min_token_len]\n",
    "    token_join = \" \".join(tokens)\n",
    "    \n",
    "    # use gensim's preprocessing function (might be better than our own)\n",
    "    simple = gensim.utils.simple_preprocess(str(token_join), deacc=True)\n",
    "    \n",
    "    return \" \".join(simple)"
   ]
  },
  {
   "cell_type": "code",
   "execution_count": 138,
   "metadata": {
    "scrolled": true
   },
   "outputs": [
    {
     "data": {
      "text/html": [
       "<div>\n",
       "<style scoped>\n",
       "    .dataframe tbody tr th:only-of-type {\n",
       "        vertical-align: middle;\n",
       "    }\n",
       "\n",
       "    .dataframe tbody tr th {\n",
       "        vertical-align: top;\n",
       "    }\n",
       "\n",
       "    .dataframe thead th {\n",
       "        text-align: right;\n",
       "    }\n",
       "</style>\n",
       "<table border=\"1\" class=\"dataframe\">\n",
       "  <thead>\n",
       "    <tr style=\"text-align: right;\">\n",
       "      <th></th>\n",
       "      <th>text</th>\n",
       "    </tr>\n",
       "  </thead>\n",
       "  <tbody>\n",
       "    <tr>\n",
       "      <th>0</th>\n",
       "      <td>&lt;div class=\"jobsearch-jobDescriptionText\" id=\"...</td>\n",
       "    </tr>\n",
       "    <tr>\n",
       "      <th>1</th>\n",
       "      <td>&lt;div class=\"jobsearch-jobDescriptionText\" id=\"...</td>\n",
       "    </tr>\n",
       "    <tr>\n",
       "      <th>2</th>\n",
       "      <td>&lt;div class=\"jobsearch-jobDescriptionText\" id=\"...</td>\n",
       "    </tr>\n",
       "    <tr>\n",
       "      <th>3</th>\n",
       "      <td>&lt;div class=\"jobsearch-jobDescriptionText\" id=\"...</td>\n",
       "    </tr>\n",
       "    <tr>\n",
       "      <th>4</th>\n",
       "      <td>&lt;div class=\"jobsearch-jobDescriptionText\" id=\"...</td>\n",
       "    </tr>\n",
       "  </tbody>\n",
       "</table>\n",
       "</div>"
      ],
      "text/plain": [
       "                                                text\n",
       "0  <div class=\"jobsearch-jobDescriptionText\" id=\"...\n",
       "1  <div class=\"jobsearch-jobDescriptionText\" id=\"...\n",
       "2  <div class=\"jobsearch-jobDescriptionText\" id=\"...\n",
       "3  <div class=\"jobsearch-jobDescriptionText\" id=\"...\n",
       "4  <div class=\"jobsearch-jobDescriptionText\" id=\"..."
      ]
     },
     "execution_count": 138,
     "metadata": {},
     "output_type": "execute_result"
    }
   ],
   "source": [
    "data = pd.DataFrame({\"text\":jd_list})\n",
    "data.head()\n",
    "\n",
    "# or you could read in my data using data = pd.read_csv(\"data/job_text.csv\", index_col=0)"
   ]
  },
  {
   "cell_type": "code",
   "execution_count": 139,
   "metadata": {},
   "outputs": [],
   "source": [
    "# create \"clean\" and \"tokens\" columns\n",
    "data[\"clean\"] = data[\"text\"].apply(preprocess)\n",
    "data[\"tokens\"] = data[\"clean\"].apply(lambda x: x.split())"
   ]
  },
  {
   "cell_type": "code",
   "execution_count": 271,
   "metadata": {},
   "outputs": [],
   "source": [
    "# uncomment the row below to save data\n",
    "# data.to_csv(\"data/job_text.csv\")"
   ]
  },
  {
   "cell_type": "markdown",
   "metadata": {},
   "source": [
    "# TF-IDF Keyword Extraction"
   ]
  },
  {
   "cell_type": "code",
   "execution_count": 142,
   "metadata": {},
   "outputs": [],
   "source": [
    "# create list of job postings\n",
    "text_list = data[\"clean\"].tolist()"
   ]
  },
  {
   "cell_type": "code",
   "execution_count": 143,
   "metadata": {},
   "outputs": [],
   "source": [
    "# train vectorizer\n",
    "vectorizer = TfidfVectorizer(use_idf=True, tokenizer=nltk.word_tokenize)\n",
    "tfidf_vectors = vectorizer.fit_transform(text_list)"
   ]
  },
  {
   "cell_type": "code",
   "execution_count": 400,
   "metadata": {},
   "outputs": [],
   "source": [
    "def tfidf_topk_words(vectorizer, k=20):\n",
    "    \"\"\"\n",
    "    A keyword extraction function that takes in a TFIDF Vectorizer \n",
    "    and returns the top k keywords\n",
    "    \"\"\"\n",
    "    words = np.array(vectorizer.get_feature_names())\n",
    "    tfidfs = tfidf_vectors.toarray()\n",
    "\n",
    "    topk = np.array([np.argpartition(i, -k)[-k:] for i in tfidf_vectors.toarray()])\n",
    "    return words[topk]\n"
   ]
  },
  {
   "cell_type": "code",
   "execution_count": 145,
   "metadata": {},
   "outputs": [],
   "source": [
    "# create list of top k words for each job posting\n",
    "top20_words = tfidf_topk_words(vectorizer, k=20)"
   ]
  },
  {
   "cell_type": "markdown",
   "metadata": {},
   "source": [
    "# Fine Tune Word Embeddings"
   ]
  },
  {
   "cell_type": "code",
   "execution_count": 276,
   "metadata": {},
   "outputs": [],
   "source": [
    "# load GoogleNews word embeddings\n",
    "# please download this yourself\n",
    "model = KeyedVectors.load_word2vec_format(\"data/GoogleNews-vectors-negative300.bin\", binary=True)"
   ]
  },
  {
   "cell_type": "code",
   "execution_count": null,
   "metadata": {},
   "outputs": [],
   "source": [
    "# create vocab\n",
    "vocabulary = data[\"tokens\"].tolist()"
   ]
  },
  {
   "cell_type": "code",
   "execution_count": 277,
   "metadata": {},
   "outputs": [
    {
     "name": "stderr",
     "output_type": "stream",
     "text": [
      "/Users/patricktung/anaconda3/lib/python3.7/site-packages/smart_open/smart_open_lib.py:398: UserWarning: This function is deprecated, use smart_open.open instead. See the migration notes for details: https://github.com/RaRe-Technologies/smart_open/blob/master/README.rst#migrating-to-the-new-open-function\n",
      "  'See the migration notes for details: %s' % _MIGRATION_NOTES_URL\n"
     ]
    },
    {
     "data": {
      "text/plain": [
       "(90130, 90130)"
      ]
     },
     "execution_count": 277,
     "metadata": {},
     "output_type": "execute_result"
    }
   ],
   "source": [
    "# fine tune word2vec model\n",
    "model2 = Word2Vec(size=300, min_count=1)\n",
    "model2.build_vocab(vocabulary)\n",
    "model2.build_vocab([list(model.vocab.keys())], update=True)\n",
    "model2.intersect_word2vec_format(\"GoogleNews-vectors-negative300.bin\", binary=True, lockf=1.0)\n",
    "model2.train(vocabulary, total_examples=len(vocabulary), epochs = 5)"
   ]
  },
  {
   "cell_type": "code",
   "execution_count": 278,
   "metadata": {
    "scrolled": true
   },
   "outputs": [],
   "source": [
    "# save model\n",
    "# model2.save(\"data/word2vec300.model\")"
   ]
  },
  {
   "cell_type": "markdown",
   "metadata": {},
   "source": [
    "## Create embeddings for each post"
   ]
  },
  {
   "cell_type": "code",
   "execution_count": 280,
   "metadata": {},
   "outputs": [],
   "source": [
    "# each post would be an average of the keyword embeddings\n",
    "post_embeddings = np.array([model2.wv[top20_words[i]].mean(axis=0) for i in range(len(top20_words))])"
   ]
  },
  {
   "cell_type": "code",
   "execution_count": 281,
   "metadata": {},
   "outputs": [
    {
     "data": {
      "text/plain": [
       "(52, 300)"
      ]
     },
     "execution_count": 281,
     "metadata": {},
     "output_type": "execute_result"
    }
   ],
   "source": [
    "# should be size (num_posts, num_features)\n",
    "post_embeddings.shape"
   ]
  },
  {
   "cell_type": "markdown",
   "metadata": {},
   "source": [
    "# Spectral Clustering"
   ]
  },
  {
   "cell_type": "code",
   "execution_count": 513,
   "metadata": {},
   "outputs": [],
   "source": [
    "# num_clusters is set to sqrt(num_posts), \n",
    "# but could use better methods to choose optimal number of clusters\n",
    "num_clusters = np.floor(np.sqrt(post_embeddings.shape[0])).astype(\"int\")\n",
    "\n",
    "# create clusters\n",
    "cluster = SpectralClustering(n_clusters=num_clusters, \n",
    "                             assign_labels=\"discretize\", random_state=101).fit(post_embeddings)"
   ]
  },
  {
   "cell_type": "code",
   "execution_count": 514,
   "metadata": {
    "scrolled": false
   },
   "outputs": [
    {
     "data": {
      "text/plain": [
       "3    12\n",
       "0    11\n",
       "5     8\n",
       "1     7\n",
       "6     6\n",
       "2     6\n",
       "4     2\n",
       "dtype: int64"
      ]
     },
     "execution_count": 514,
     "metadata": {},
     "output_type": "execute_result"
    }
   ],
   "source": [
    "# number of posts in each cluster\n",
    "pd.Series(cluster.labels_).value_counts()"
   ]
  },
  {
   "cell_type": "markdown",
   "metadata": {},
   "source": [
    "## Explore clusters"
   ]
  },
  {
   "cell_type": "code",
   "execution_count": 515,
   "metadata": {},
   "outputs": [],
   "source": [
    "def get_keywords_by_cluster(cluster, label):\n",
    "    \"\"\"\n",
    "    Given a cluster and cluster label, return the topk_words\n",
    "    for each post in the cluster\n",
    "    \"\"\"\n",
    "    cluster_index = np.array(cluster.labels_ == label)\n",
    "    return top20_words[cluster_index]"
   ]
  },
  {
   "cell_type": "markdown",
   "metadata": {},
   "source": [
    "### Cluster 0\n",
    "\n",
    "Note: keywords are in no particular order"
   ]
  },
  {
   "cell_type": "code",
   "execution_count": 516,
   "metadata": {
    "scrolled": false
   },
   "outputs": [
    {
     "data": {
      "text/plain": [
       "array([['growing', 'project', 'flexible', 'machine', 'data', 'new',\n",
       "        'continuous', 'share', 'feedback', 'encourages', 'deploy',\n",
       "        'team', 'small', 'learning', 'geese', 'product', 'continue',\n",
       "        'work', 'heard', 'enjoy'],\n",
       "       ['application', 'following', 'management', 'work', 'government',\n",
       "        'recent', 'canada', 'specialization', 'stream', 'contact',\n",
       "        'essential', 'significant', 'process', 'normally', 'information',\n",
       "        'experience', 'defined', 'data', 'public', 'ec'],\n",
       "       ['solutions', 'experience', 'work', 'reporting', 'com', 'great',\n",
       "        'data', 'resume', 'collection', 'candidates', 'bring', 'things',\n",
       "        'let', 'actuarial', 'sonnet', 'company', 'insurance', 're',\n",
       "        'petline', 'economical'],\n",
       "       ['use', 'benefits', 'turn', 'family', 'location', 'http', 'nlu',\n",
       "        'https', 'eligible', 'url', 'echo', 'www', 'amazon', 'home',\n",
       "        'youtube', 'alexa', 'smart', 'com', 'bonuses', 'watch'],\n",
       "       ['engineering', 'functional', 'solutions', 'generation', 'big',\n",
       "        'enable', 'outcomes', 'deep', 'information', 'ensure',\n",
       "        'scalable', 'experienced', 'digital', 'experience', 'you', 'll',\n",
       "        'different', 'bring', 'batch', 'data'],\n",
       "       ['new', 'program', 'build', 'deep', 'nlp', 'algorithms',\n",
       "        'learning', 'skyhive', 'paid', 'perform', 'content', 'haves',\n",
       "        'natural', 'machine', 'minimum', 'processing', 'opportunity',\n",
       "        'data', 'startup', 'amp'],\n",
       "       ['models', 'clicking', 'learning', 'incentive', 'business',\n",
       "        'share', 'story', 'sales', 'assessment', 'life', 'submit',\n",
       "        'online', 'ai', 'operations', 'need', 'data', 'complete', 'job',\n",
       "        'sun', 'application'],\n",
       "       ['disciplinewhat', 'scale', 're', 'use', 'engineering',\n",
       "        'algorithms', 'functional', 'bring', 'generation', 'experience',\n",
       "        'you', 'ensure', 'experienced', 'll', 'digital', 'outcomes',\n",
       "        'batch', 'scalable', 'different', 'data'],\n",
       "       ['assess', 'believe', 'solutions', 'learning', 'available',\n",
       "        'people', 'stakeholders', 'replenishment', 'great', 'chain',\n",
       "        'paced', 'loblaw', 'ml', 'data', 'model', 'dl', 'diversity',\n",
       "        'ai', 'supply', 'challenges'],\n",
       "       ['cases', 'end', 'open', 'use', 'source', 'activities', 'gender',\n",
       "        'sales', 'customers', 'workflows', 'ones', 'ingestion',\n",
       "        'learning', 'machine', 'technical', 'customer', 'data',\n",
       "        'engineers', 'deployment', 'ai'],\n",
       "       ['medium', 'top', 'culture', 'scientific', 'companies', 'best',\n",
       "        'recognized', 'better', 'looking', 'ended', 'clio', 'www', 'com',\n",
       "        'questions', 'legal', 'lives', 'https', 'managed', 'data',\n",
       "        'canada']], dtype='<U15')"
      ]
     },
     "execution_count": 516,
     "metadata": {},
     "output_type": "execute_result"
    }
   ],
   "source": [
    "get_keywords_by_cluster(cluster,0)"
   ]
  },
  {
   "cell_type": "markdown",
   "metadata": {},
   "source": [
    "The posts in cluster 0 look like they might something to do with machine learning or deep learning. We can see \"ml\" being used, as well as, \"learning\" and \"deep\". It also labeled an Amazon job posting in here about the Echo and Alexa, which could mean something about nlp."
   ]
  },
  {
   "cell_type": "markdown",
   "metadata": {},
   "source": [
    "### Cluster 1"
   ]
  },
  {
   "cell_type": "code",
   "execution_count": 517,
   "metadata": {},
   "outputs": [
    {
     "data": {
      "text/plain": [
       "array([['processing', 'technical', 'fields', 'scientific', 'human',\n",
       "        'behaviour', 'understanding', 'data', 'contributing', 'code',\n",
       "        'linguistics', 'ideal', 'new', 'background', 'work',\n",
       "        'psychology', 'keen', 'insights', 'receptiviti', 'modelling'],\n",
       "       ['project', 'experience', 'ensure', 'modeling', 'pipelines',\n",
       "        'candidates', 'similar', 'push', 'collaboratively', 'program',\n",
       "        'server', 'probability', 'rd', 'association', 'simulation',\n",
       "        'tableau', 'levels', 'data', 'analytics', 'bcmea'],\n",
       "       ['mining', 'decisions', 'internal', 'success', 'marketing',\n",
       "        'team', 'improving', 'organizational', 'analysis', 'designing',\n",
       "        'quantitative', 'help', 'extract', 'game', 'interpersonal',\n",
       "        'initiatives', 'data', 'player', 'qualitative', 'gaming'],\n",
       "       ['maritime', 'trending', 'trends', 'new', 'pipelines', 'tableau',\n",
       "        'creative', 'push', 'bcmea', 'bc', 'degree', 'support',\n",
       "        'resource', 'association', 'levels', 'program', 'analytics',\n",
       "        'reports', 'candidates', 'data'],\n",
       "       ['deep', 'systems', 'energy', 'outcomes', 'products', 'years',\n",
       "        'structures', 'lamda', 'lab', 'experienced', 'll', 'algorithms',\n",
       "        'teams', 'batch', 'data', 'enbridge', 'technology', 'different',\n",
       "        'required', 'bring'],\n",
       "       ['specification', 'theano', 'expertise', 'identify', 'analytical',\n",
       "        'communicated', 'mining', 'provide', 'insights', 'tracked',\n",
       "        'tools', 'foster', 'non', 'end', 'data', 'initiatives',\n",
       "        'actionable', 'business', 'areas', 'analytics'],\n",
       "       ['world', 'software', 'experience', 'best', 'waterloo', 'derive',\n",
       "        'innovation', 'region', 'students', 'diverse', 'driven',\n",
       "        'datasets', 'data', 'intelligence', 'gender', 'interpret',\n",
       "        'applyboard', 'practices', 'team', 'fastest']], dtype='<U15')"
      ]
     },
     "execution_count": 517,
     "metadata": {},
     "output_type": "execute_result"
    }
   ],
   "source": [
    "get_keywords_by_cluster(cluster,1)"
   ]
  },
  {
   "cell_type": "markdown",
   "metadata": {},
   "source": [
    "In regards to cluster 1, it looks like the most important word that makes these posts a \"cluster\" is the keyword \"data\". However, simply having \"data\" does not really tell us any key skills data scientists have or need."
   ]
  },
  {
   "cell_type": "markdown",
   "metadata": {},
   "source": [
    "### Cluster 2"
   ]
  },
  {
   "cell_type": "code",
   "execution_count": 518,
   "metadata": {},
   "outputs": [
    {
     "data": {
      "text/plain": [
       "array([['america', 'alongside', 'users', 'software', 'parents',\n",
       "        'incredible', 'north', 'prodigy', 'advancement', 'kids',\n",
       "        'education', 'data', 'love', 'students', 'educational', 'help',\n",
       "        'teachers', 'growing', 'entire', 'teams'],\n",
       "       ['meeting', 'stay', 'accessibility', 'change', 'want', 'excited',\n",
       "        'data', 'mind', 'rewarded', 'iteration', 'business', 'delivers',\n",
       "        'success', 'work', 'entrepreneurial', 'employees', 'afraid',\n",
       "        'thrive', 'achievers', 'places'],\n",
       "       ['advanced', 'modeling', 'background', 'partners', 'core', 'plus',\n",
       "        'leader', 'industry', 'apply', 'north', 'highly', 'underwriting',\n",
       "        'munich', 'insurance', 'life', 'employees', 'american', 'data',\n",
       "        'rewards', 'science'],\n",
       "       ['convincing', 'authority', 'alliteratively', 'principal',\n",
       "        'broad', 'evolved', 'networking', 'instruments', 'cryptoassets',\n",
       "        'team', 'mentorship', 'projects', 'excellent', 'data',\n",
       "        'collaboration', 'learning', 'drw', 'capital', 'machine',\n",
       "        'markets'],\n",
       "       ['educational', 'diploma', 'brainstation', 'online', 'education',\n",
       "        'program', 'campuses', 'digital', 'educators', 'regression',\n",
       "        'data', 'training', 'cutting', 'wave', 'experience', 'campus',\n",
       "        'gender', 'consideration', 'teaching', 'actively'],\n",
       "       ['working', 'work', 'following', 'insurance', 'end', 'analysis',\n",
       "        'capable', 'financial', 'infrastructure', 'rapidly', 'members',\n",
       "        'business', 'team', 'data', 'comfortable', 'lives', 'embrace',\n",
       "        'based', 'humble', 'assurance']], dtype='<U15')"
      ]
     },
     "execution_count": 518,
     "metadata": {},
     "output_type": "execute_result"
    }
   ],
   "source": [
    "get_keywords_by_cluster(cluster, 2)"
   ]
  },
  {
   "cell_type": "markdown",
   "metadata": {},
   "source": [
    "Cluster 2 looks like it contains a little information about education, teams and maybe collaboration. This could mean that these posts are either geared towards students, mentorships, or simply positions that require teamwork."
   ]
  },
  {
   "cell_type": "markdown",
   "metadata": {},
   "source": [
    "### Cluster 3"
   ]
  },
  {
   "cell_type": "code",
   "execution_count": 519,
   "metadata": {},
   "outputs": [
    {
     "data": {
      "text/plain": [
       "array([['ai', 'like', 'possible', 'grow', 'way', 'execute', 'client',\n",
       "        'identify', 'data', 'need', 'ca', 'connect', 'exposure',\n",
       "        'launch', 'deloitte', 'look', 'lead', 'prepped', 'firm', 'omnia'],\n",
       "       ['automated', 'dashboards', 'game', 'days', 'information',\n",
       "        'toronto', 'welcomes', 'intermediate', 'annual', 'located',\n",
       "        'assisting', 'classes', 'team', 'tasks', 'excellent', 'studio',\n",
       "        'data', 'ability', 'ubisoft', 'events'],\n",
       "       ['focus', 'specific', 'making', 'training', 'skills', 'domain',\n",
       "        'accessible', 'curation', 'cleansing', 'openly', 'automation',\n",
       "        'automating', 'preparation', 'manual', 'salesgrowth',\n",
       "        'automatic', 'efficiently', 'ml', 'data', 'information'],\n",
       "       ['grasp', 'narratives', 'author', 'users', 'understanding',\n",
       "        'analyses', 'engineering', 'production', 'key', 'provide',\n",
       "        'inform', 'metrics', 'data', 'closely', 'flashfood', 'decisions',\n",
       "        'surplus', 'experimentation', 'phone', 'food'],\n",
       "       ['applied', 'experience', 'approaches', 'practical', 'gas',\n",
       "        'integrating', 'profile', 'apis', 'textual', 'alberta', 'messy',\n",
       "        'analytics', 'cenovus', 'data', 'interesting', 'oil', 'click',\n",
       "        'investigate', 'notification', 'numerical'],\n",
       "       ['fulfill', 'accuracyexpert', 'synthesizing', 'personally',\n",
       "        'validating', 'growthsupport', 'identifies', 'policies', 'or',\n",
       "        'project', 'resources', 'sourcing', 'mining', 'patterns',\n",
       "        'seeking', 'and', 'methods', 'capital', 'analyze', 'data'],\n",
       "       ['secure', 'road', 'scoping', 'convert', 'resume', 'clients',\n",
       "        'enterprise', 'permanent', 'bachelor', 'job', 'mining', 'hourly',\n",
       "        'bridgeport', 'richmond', 'noc', 'analysts', 'big', 'pro',\n",
       "        'data', 'fortify'],\n",
       "       ['tour', 'adventure', 'engine', 'detailed', 'personalization',\n",
       "        'parametric', 'stress', 'provide', 'wide', 'platform',\n",
       "        'guestlogix', 'travel', 'trip', 'data', 'personalized',\n",
       "        'journey', 'contest', 'passengers', 'airlines', 'modelling'],\n",
       "       ['researchers', 'citizenship', 'investment', 'resourcefulness',\n",
       "        'visualise', 'broader', 'linux', 'developing', 'diving',\n",
       "        'inspiration', 'preferred', 'permit', 'utilization', 'math',\n",
       "        'set', 'physics', 'sets', 'trading', 'data', 'canadian'],\n",
       "       ['cloud', 'databases', 'data', 'stackpros', 'perform',\n",
       "        'structure', 'problem', 'scientist', 'approach', 'suited',\n",
       "        'maintain', 'clean', 'disparate', 'automated', 'transformed',\n",
       "        'experiments', 'extensive', 'gather', 'load', 'client'],\n",
       "       ['enjoy', 'intelligence', 'ai', 'amounts', 'efficient',\n",
       "        'artificial', 'predict', 'increase', 'problem', 'measures',\n",
       "        'huge', 'greenhouse', 'indoor', 'operators', 'corrective',\n",
       "        'motorleaf', 'st', 'times', 'farming', 'data'],\n",
       "       ['pharmaceutical', 'respect', 'knowledge', 'preprocessing',\n",
       "        'customized', 'business', 'including', 'project', 'time',\n",
       "        'duties', 'series', 'proven', 'works', 'agility', 'required',\n",
       "        'client', 'consulting', 'ability', 'teams', 'forecasting']],\n",
       "      dtype='<U15')"
      ]
     },
     "execution_count": 519,
     "metadata": {},
     "output_type": "execute_result"
    }
   ],
   "source": [
    "get_keywords_by_cluster(cluster, 3)"
   ]
  },
  {
   "cell_type": "markdown",
   "metadata": {},
   "source": [
    "As we have seen earlier, cluster 3 is our largest cluster and that is a little bit worrisome. After looking at all the other clusters, it looks like this cluster might just be of some miscellaneous information. It contains keywords such as \"ai\", \"modelling\", and \"experimentation\", but these are not shared across the posts. "
   ]
  },
  {
   "cell_type": "markdown",
   "metadata": {},
   "source": [
    "### Cluster 4"
   ]
  },
  {
   "cell_type": "code",
   "execution_count": 520,
   "metadata": {},
   "outputs": [
    {
     "data": {
      "text/plain": [
       "array([['competences', 'automatique', 'technologies', 'que', 'un', 'une',\n",
       "        'pour', 'apprentissage', 'vous', 'le', 'en', 'la', 'les', 'des',\n",
       "        'donnees', 'ericsson', 'mi', 'de', 'dans', 'et'],\n",
       "       ['dans', 'aux', 'modeles', 'vb', 'speech', 'va', 'connaissance',\n",
       "        'de', 'la', 'des', 'un', 'nuance', 'les', 'pour', 'ivr', 'le',\n",
       "        'ou', 'et', 'en', 'avec']], dtype='<U15')"
      ]
     },
     "execution_count": 520,
     "metadata": {},
     "output_type": "execute_result"
    }
   ],
   "source": [
    "get_keywords_by_cluster(cluster, 4)"
   ]
  },
  {
   "cell_type": "markdown",
   "metadata": {},
   "source": [
    "This cluster is very interesting and is quite obvious. Having had some introductory French lessons, it looks to me that this cluster consists of posts that are in French. We can also see that some of the important words are \"technologies\" and \"modeles\"."
   ]
  },
  {
   "cell_type": "markdown",
   "metadata": {},
   "source": [
    "### Cluster 5"
   ]
  },
  {
   "cell_type": "code",
   "execution_count": 521,
   "metadata": {},
   "outputs": [
    {
     "data": {
      "text/plain": [
       "array([['seekers', 'minute', 'traits', 'application', 'sure', 'free',\n",
       "        'employers', 'career', 'considered', 'job', 'qualities', 'dream',\n",
       "        'matched', 'companies', 'stand', 'tech', 'roles', 'ready',\n",
       "        'prime', 'coaching'],\n",
       "       ['youyou', 'yearexperience', 'skillsbonus', 'inertial', 'improve',\n",
       "        'years', 'timesalary', 'developed', 'boundaries', 'foundations',\n",
       "        'navigation', 'underground', 'underpin', 'breakthroughs',\n",
       "        'physicist', 'required', 'forpractical', 'needstrong', 'dobe',\n",
       "        're'],\n",
       "       ['canada', 'documents', 'limited', 'scotiabankers', 'assistance',\n",
       "        'interpreter', 'scotiabank', 'candidates', 'assistive',\n",
       "        'alternate', 'id', 'requisition', 'asl', 'brings', 'recruitment',\n",
       "        'require', 'bank', 'interview', 'accessible', 'global'],\n",
       "       ['personal', 'paid', 'days', 'dynamic', 'office', 'potential',\n",
       "        'hard', 'free', 'yoga', 're', 'vancouver', 'visier', 'fun',\n",
       "        'gym', 'classes', 'games', 'manager', 'volunteer', 'employees',\n",
       "        'snacks'],\n",
       "       ['rollout', 'employed', 'launcher', 'internship', 'debugging',\n",
       "        'mysqlworkbench', 'artifical', 'regulationsnot', 'work', 'dev',\n",
       "        'troubleshooting', 'refugee', 'granted', 'ajax', 'eligible',\n",
       "        'frameworks', 'must', 'html', 'laravel', 'css'],\n",
       "       ['problems', 'libraries', 'language', 'seeking', 'ml', 'nice',\n",
       "        'possess', 'reps', 'ideal', 'marketing', 'history', 'company',\n",
       "        'activity', 'strength', 'sales', 'accounts', 'relationships',\n",
       "        'relationship', 'nlp', 'introhive'],\n",
       "       ['gif', 'blog', 'github', 'shoreditch', 'term', 'explorer',\n",
       "        'london', 'medical', 'exchange', 'bupa', 'catered', 'private',\n",
       "        'trusted', 'need', 'sum', 'parts', 'elix', 'wednesday',\n",
       "        'stackoverflow', 'exchanges'],\n",
       "       ['online', 'employment', 'solid', 'markham', 'video',\n",
       "        'contractor', 'contract', 'months', 'advertising', 'candidate',\n",
       "        'attention', 'olv', 'youth', 'prior', 'cash', 'permanent',\n",
       "        'aiztech', 'irap', 'space', 'role']], dtype='<U15')"
      ]
     },
     "execution_count": 521,
     "metadata": {},
     "output_type": "execute_result"
    }
   ],
   "source": [
    "get_keywords_by_cluster(cluster, 5)"
   ]
  },
  {
   "cell_type": "markdown",
   "metadata": {},
   "source": [
    "Similar to cluster 3, this cluster seems a little bit of everywhere. I don't think that this cluster has a main idea or keyword. However, we are able to see that some of the keywords for a particular post seem to quite interesting. For example, we can see that there is a job posting that requires the data scientists to understand ajax, html, laravel, and css. This looks more like a web development position, but I do not think this is essential for data scientists."
   ]
  },
  {
   "cell_type": "markdown",
   "metadata": {},
   "source": [
    "### Cluster 6"
   ]
  },
  {
   "cell_type": "code",
   "execution_count": 522,
   "metadata": {},
   "outputs": [
    {
     "data": {
      "text/plain": [
       "array([['testing', 'preferred', 'scientist', 'analytics', 'applied',\n",
       "        'analytical', 'applying', 'etc', 'calgary', 'day', 'data',\n",
       "        'statistical', 'machine', 'including', 'learning', 'integrity',\n",
       "        'techniques', 'clients', 'products', 'science'],\n",
       "       ['messaging', 'visualization', 'requirements', 'analytics', 'll',\n",
       "        'user', 'analysis', 'techniques', 'life', 'identify', 'ability',\n",
       "        'demonstrated', 'tools', 'business', 'unstructured', 'learning',\n",
       "        'workflows', 'experience', 'data', 'information'],\n",
       "       ['innovative', 'data', 'peoplestrong', 'learning', 'execution',\n",
       "        'techniques', 'production', 'new', 'amp', 'organization',\n",
       "        'recordbachelors', 'use', 'models', 'improvementa',\n",
       "        'managementtest', 'tools', 'machine', 'analytics', 'job',\n",
       "        'desciption'],\n",
       "       ['amp', 'execution', 'company', 'technical', 'techniques', 'opta',\n",
       "        'description', 'new', 'learning', 'bachelors', 'organization',\n",
       "        'tools', 'models', 'scientist', 'production', 'use', 'analytics',\n",
       "        'machine', 'data', 'job'],\n",
       "       ['neural', 'stakeholders', 'insights', 'variety', 'statistical',\n",
       "        'contract', 'clustering', 'drive', 'teams', 'product', 'tools',\n",
       "        'techniques', 'sets', 'motorcycle', 'etc', 'outcomes', 'data',\n",
       "        'riding', 'creating', 'experience'],\n",
       "       ['build', 'engineering', 'success', 'work', 'data', 'technical',\n",
       "        'drive', 'analyzing', 'product', 'results', 'analysis',\n",
       "        'projects', 'experience', 'hiring', 'evaluating', 'line',\n",
       "        'metrics', 'help', 'advertising', 'perpetua']], dtype='<U15')"
      ]
     },
     "execution_count": 522,
     "metadata": {},
     "output_type": "execute_result"
    }
   ],
   "source": [
    "get_keywords_by_cluster(cluster, 6)"
   ]
  },
  {
   "cell_type": "markdown",
   "metadata": {},
   "source": [
    "Cluster 6 seems to be about analyzing data and providing insights. Some of the keywords used here are \"analytics\" and \"analyzing\". I must agree that data scientists should know how to analyze information and generate insights from their analysis."
   ]
  },
  {
   "cell_type": "markdown",
   "metadata": {},
   "source": [
    "# Word Cloud Visualization"
   ]
  },
  {
   "cell_type": "markdown",
   "metadata": {},
   "source": [
    "To visualize what the most frequent words that appeared in our entire dataset, we can create a word cloud."
   ]
  },
  {
   "cell_type": "code",
   "execution_count": 436,
   "metadata": {},
   "outputs": [],
   "source": [
    "# generate a word cloud of 50 words\n",
    "word_cloud_text = \" \".join(text_list)\n",
    "wc = WordCloud(max_words=100, scale=30, background_color=\"white\").generate(word_cloud_text)"
   ]
  },
  {
   "cell_type": "code",
   "execution_count": 437,
   "metadata": {},
   "outputs": [
    {
     "data": {
      "text/plain": [
       "<matplotlib.image.AxesImage at 0x18a24be48>"
      ]
     },
     "execution_count": 437,
     "metadata": {},
     "output_type": "execute_result"
    },
    {
     "data": {
      "image/png": "[encoded data removed]",
      "text/plain": [
       "<Figure size 1080x1080 with 1 Axes>"
      ]
     },
     "metadata": {
      "needs_background": "light"
     },
     "output_type": "display_data"
    }
   ],
   "source": [
    "# visualize\n",
    "plt.figure(figsize=(15,15))\n",
    "plt.imshow(wc)"
   ]
  },
  {
   "cell_type": "markdown",
   "metadata": {},
   "source": [
    "It seems that there still needs to be some preprocessing work needed to be done in terms of the word cloud generated from the previous cell. However, we can still gain some quick insights about what type of information is included in our data scientist job postings. We can definitely see that \"machine learning\" is a big part, as well as \"model\", \"algorithm\", and \"statistical\". In terms of the types of coding languages that data scientists should use, although it's quite small, I can see that there is \"python\" and \"sql\". "
   ]
  }
 ],
 "metadata": {
  "kernelspec": {
   "display_name": "Python 3",
   "language": "python",
   "name": "python3"
  },
  "language_info": {
   "codemirror_mode": {
    "name": "ipython",
    "version": 3
   },
   "file_extension": ".py",
   "mimetype": "text/x-python",
   "name": "python",
   "nbconvert_exporter": "python",
   "pygments_lexer": "ipython3",
   "version": "3.7.3"
  }
 },
 "nbformat": 4,
 "nbformat_minor": 2
}
